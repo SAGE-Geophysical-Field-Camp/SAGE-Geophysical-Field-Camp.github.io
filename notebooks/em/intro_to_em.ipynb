{
 "cells": [
  {
   "cell_type": "markdown",
   "id": "b3d2b4b7",
   "metadata": {},
   "source": [
    "# Electromagnetics Basics\n",
    "\n",
    "In this module you will learn about electromagnetic geophysical methods.  \n",
    "\n",
    "## Key Concepts\n",
    "\n",
    "1. **Physical understanding**: Understand the physics behing electromagnetic geophysical methods.\n",
    "    - **Right-Hand-Rule**: Understand how electromagnetic waves propogate through the Earth.\n",
    "    - **Electrical Resistivity**: Understand what physical property electromagnetic geophysical measurements are most sensitive to.\n",
    "\n",
    "2. **Measurements**: Get exposure to various electromagnetic methods and their strengths and weaknesses.\n",
    "    - **MT**: magnetotellruics\n",
    "    - **TEM**: transient electromagnetics\n",
    "    - **GPR**: ground-penetrating radar\n",
    "\n",
    "3. **Field Deployment**: Understand survey design and instrument deployment.\n",
    "    - **Survey Design**: Understand the basics of survey design starting from a geologic target.\n",
    "    - **Instrument Deployment**: Understand basic instrument deployment/\n",
    "\n",
    "4. **Processing/Modeling**: Get exposure to how data are processed, modelled.\n",
    "    - **Processing**: Understand the general workflow of estimating the Earth's electrical response from field measurements.\n",
    "    - **Modeling**: Understand the various ways to model electromagnetic data.\n",
    "\n",
    "5. **Interpretation**: Assimilate geologic knowledge with geophysical models\n",
    "    - **Rock Properties**: Think about various rock properties and how that might affect electrical resistivity\n",
    "    - **Combined with Geology**: Explore ways to interpret electromagnetic models starting with geology.\n",
    "\n",
    "\n"
   ]
  },
  {
   "cell_type": "markdown",
   "id": "06ec3981",
   "metadata": {},
   "source": []
  }
 ],
 "metadata": {
  "language_info": {
   "name": "python"
  }
 },
 "nbformat": 4,
 "nbformat_minor": 5
}
