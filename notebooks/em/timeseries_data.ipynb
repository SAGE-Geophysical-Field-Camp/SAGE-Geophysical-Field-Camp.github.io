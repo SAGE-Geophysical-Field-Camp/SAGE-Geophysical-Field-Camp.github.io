{
 "cells": [
  {
   "cell_type": "markdown",
   "metadata": {},
   "source": [
    "# Time Series MT Data\n",
    "\n",
    "Time series MT data are the raw data collected in the field after arduously digging holes.  These are the data from which the MT transfer function are estimated, therefore when you are in the field take care in setting the sensors and instruments up properly.  See the previous section on data collection."
   ]
  }
 ],
 "metadata": {
  "language_info": {
   "name": "python"
  }
 },
 "nbformat": 4,
 "nbformat_minor": 2
}
