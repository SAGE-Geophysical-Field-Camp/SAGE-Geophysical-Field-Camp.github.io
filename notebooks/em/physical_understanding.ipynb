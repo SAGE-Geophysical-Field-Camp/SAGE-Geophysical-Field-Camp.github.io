{
 "cells": [
  {
   "cell_type": "markdown",
   "id": "fca9d8aa",
   "metadata": {},
   "source": [
    "# Physical Understanding\n",
    "\n",
    "Click on the link for a thorough introduction to electromagnetic geophysics.\n",
    "\n",
    "[EM GeoSci](https://em.geosci.xyz/index.html)\n",
    "\n",
    "## Other Resources\n",
    "\n",
    "### YouTube Videos\n",
    "\n",
    "- [Understanding Maxwell's equations](https://www.youtube.com/watch?v=rB83DpBJQsE)\n",
    "- [Understanding impedance](https://www.youtube.com/watch?v=WmTlioVfS78)\n",
    "- [Frequency domain: filtering (periodic signals)](https://www.youtube.com/watch?v=pa0PNt3BXuM)\n",
    "- [Low Pass Filters and High Pass Filters - RC and RL Circuits](https://www.youtube.com/watch?v=lagfhNjMuQM&t=3s)\n",
    "- [Eulers formula](https://www.youtube.com/watch?v=LE2uwd9V5vw)\n",
    "- [Fourier Transform](https://www.youtube.com/watch?v=G74t5az6PLo)\n",
    "- [Electrical Resistivity](https://www.youtube.com/watch?v=VWXs64Z85FM)\n",
    "- [Introduction to Electromagnetics](https://www.youtube.com/watch?v=8H8PhCg2LHE)"
   ]
  },
  {
   "cell_type": "markdown",
   "id": "bedf8ff0",
   "metadata": {},
   "source": []
  }
 ],
 "metadata": {
  "language_info": {
   "name": "python"
  }
 },
 "nbformat": 4,
 "nbformat_minor": 5
}
