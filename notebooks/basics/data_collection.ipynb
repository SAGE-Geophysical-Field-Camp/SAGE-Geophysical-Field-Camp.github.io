{
 "cells": [
  {
   "cell_type": "markdown",
   "metadata": {},
   "source": [
    "# MT Data Collection\n",
    "\n",
    "Data collection is one of the most important aspects of imaging the subsurface with MT.  This section will provide some basic information on how to collect data, tips, and common practices.\n",
    "\n",
    "## Survey Design\n",
    "\n",
    "Survey design is critical to making sure that you properly cover your target and get the best resolution you can given the economics and logistics of the project.  \n",
    "\n",
    "Important things to consider: \n",
    "\n",
    "### What is the Target\n",
    "\n",
    "  - **Composition**: What is it made of, will it be conductive or resistive?\n",
    "  - **Geometry**: \n",
    "    - Volume\n",
    "    - Dimensions and depth\n",
    "    - Strike and dip\n",
    "\n",
    "The shape, depth, and composition of the target will dictate what the minimum station spacing needed to properly resolve the target.  \n",
    "\n",
    "### Rules of Thumb\n",
    "\n",
    "- Station spacing should be about 1/2 your shallowest target depth.  So if your target is a shallow geothermal field, where the top is 500 m, stations spacing should be around 250 m.  Whereas, if you are targeting a deep zone of partial melt at 10 km, station spacing of 5 km would be adequate. \n",
    "- The aperture of your survey should be at least 2 times your deepest target depth. If your target is crustal scale and your target is the Moho at 30 km, then you would ideally have a survey that is wider than 60 km.  \n",
    "- The periods needed to resolve the target should be around the twice the skin depth of your deepest target.  If your target is 10 km, then you would like to record periods where the skin depth is at least twice that.  If your apparent resistivity to a depth of 10 km is 100 then you would need to record periods of at least 4 seconds.  Its a good idea to actually collect data that have a skin depth of your aperture because remember the skin depth is generally defining a hemispherical radius, so you are not only getting information about what is below the station but from the sides as well. \n",
    "\n",
    "$$\\delta_{skin} (km) \\approx 0.5 \\sqrt{\\rho_a(\\Omega \\cdot m) \\cdot period(s)}$$ \n",
    "$$period(s) \\approx \\dfrac{(2 \\cdot \\delta_{skin}(km))^{2}}{\\rho_a(\\Omega \\cdot m)}$$\n",
    "\n",
    "- The period range will determine which types of instruments to use.  These days broadband (also known as wideband) instruments are more than adequate for most crustal scale and smaller experiments.  Induction coils have higher fidelity and do not need to record as long to get longer periods.  Leaving a broadband station out for a couple of days should provide good data to at least 6000 seconds and maybe longer.  \n",
    "\n",
    "### Infrastructure and Noise Sources\n",
    "\n",
    "The bain of any MT survey is cultural noise.  By creatively setting up your station locations you can try to minimize the effects of cultural noise.  Sometimes you won't know until you go out into the field that a new powerline or pipeline runs right through your survey.  Types of cultural noise that affect electromagnetic measurements are:\n",
    "\n",
    "- **Powerlines**: There are different flavors of powerlines and depending on the country you are in different frequencies.  Most powerlines modulate at nominally 60 Hz (North America) or 50 Hz (rest of the world) and harmonics.  For high-wire (large) powerlines the energy output can be quite large so collecting data at least 500m away is a good idea to be in the far field.  For smaller powerlines 200 m is good rule-of-thumb.  Worst case scenario is that the powerlines are ground in which case current is leaked into the ground, which will affect your measurements.  In that case you may see large AC or DC numbers when you check your installation.  You'll likeley want to move away if you are seeing numbers above 50 mV.  The channels that are most affected by powerlines are the Hz (vertical component) and the magnetometer more orthogonal to the powerline.  To reduce affects you can set station up to be 45 degrees to the powerline. \n",
    "-**Pipelines**: (usually gas pipelines) These are usually the most detrimental to MT data.  To reduce rusting or oxidation in the pipeline an alternating current is applied to the pipe.  This usually comes in the form of an electric square-wave about 2 seconds long sent every 12 seconds.  As you can see this affects periods from about 1 second to 20 seconds or longer.  Removing this type of noise is more difficult but machine learing techniques show promise in removing artifacts from the transfer function. \n",
    "\n",
    "\n",
    "<div class=\"alert alert-block alert-info\">\n",
    "<b>Note:</b> A distant remote unaffected by these noise sources are the best option for estimating clean transfer functions.\n",
    "</div>\n",
    "\n",
    "\n",
    "- TODO: create a notebook demonstrating how to pick site locations\n",
    "\n"
   ]
  },
  {
   "cell_type": "markdown",
   "metadata": {},
   "source": []
  }
 ],
 "metadata": {
  "language_info": {
   "name": "python"
  }
 },
 "nbformat": 4,
 "nbformat_minor": 2
}
