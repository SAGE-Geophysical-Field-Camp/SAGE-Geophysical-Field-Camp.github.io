{
 "cells": [
  {
   "cell_type": "markdown",
   "metadata": {},
   "source": [
    "## Seismology Basics: \n",
    "\n",
    "## 1. Physical Understanding: \n",
    "### Understand the physics behind wave propagation"
   ]
  },
  {
   "cell_type": "markdown",
   "metadata": {},
   "source": [
    "- Basic wave properties: amplitude, wavelength, frequency\n",
    "- Elasticity, stress, and strain\n",
    "- Math & Physics of Ray Propagation \n",
    "- Wave solutions, Snell's Law, ray paths, travel times, group vs. phase velocity\n",
    "- decibels, signal-to-noise ratio, dynamic range\n",
    "\n"
   ]
  },
  {
   "cell_type": "markdown",
   "metadata": {},
   "source": [
    "## 2. Measurements: \n",
    "### Get exposure to various methods in seismology, their strength and weaknesses "
   ]
  },
  {
   "cell_type": "markdown",
   "metadata": {},
   "source": [
    "\n",
    "- Seismic Sources & Waves: **Active vs. Passive sources**, **P and S waves**, **Seismograms**, **Energy partitioning**\n",
    "- Differences between **Earthquake Seismology** and **Exploration Seismology**\n",
    "- Instrumentation:\n",
    "  - Geophones\n",
    "  - Broadband seismometers\n",
    "  - Digitizers\n",
    "\n"
   ]
  },
  {
   "cell_type": "markdown",
   "metadata": {},
   "source": [
    "## 3. Field Deployment\n",
    "### Understand survey design and instrument deployment."
   ]
  },
  {
   "cell_type": "markdown",
   "metadata": {},
   "source": [
    "\n",
    "\n",
    "- **Survey Design**: Networks, arrays, channel grouping, shot spacing\n",
    "- **Geometry**: Network geometry, station spacing, spatiotemporal resolution\n",
    "- Design surveys starting from a **geologic target**\n",
    "- Instrumentation:\n",
    "  - Source/Receiver Fundamentals\n",
    "  - Instrument mechanics and deployment\n",
    "- Other field techniques: GPS, field note-taking, compass orientation\n"
   ]
  },
  {
   "cell_type": "markdown",
   "metadata": {},
   "source": [
    "## 4. Processing/Modeling\n",
    "### Get exposure to how data are processed, modelled. \n"
   ]
  },
  {
   "cell_type": "markdown",
   "metadata": {},
   "source": [
    "### Processing:\n",
    "- General workflows for both **active** and **passive** seismic data\n",
    "- Data formats: **SEG-Y**, **SEED**\n",
    "- Metadata handling\n",
    "- Active Seismic Processing:\n",
    "  - Seismic Unix\n",
    "  - Shot record processing\n",
    "  - Static corrections\n",
    "  - NMO\n",
    "  - CDP stacking\n",
    "- Passive Seismic Analysis:\n",
    "  - H/V spectral ratio\n",
    "  - Beamforming\n",
    "  - Earthquake signal detection\n",
    "\n",
    "### Modeling:\n",
    "- Understand the various ways to model and interpret data.\n",
    "    - Relating seismic data to subsurface geology"
   ]
  },
  {
   "cell_type": "markdown",
   "metadata": {},
   "source": [
    "## 5. Interpretation\n",
    "### Assimilate geologic knowledge with geophysical models "
   ]
  },
  {
   "cell_type": "markdown",
   "metadata": {},
   "source": [
    "- Rock Properties: Think about various rock properties and how that might affect seismic waves velocity\n",
    "- Combined with Geology: Explore ways to interpret seismic wave models starting with geology.\n",
    "\n"
   ]
  },
  {
   "cell_type": "code",
   "execution_count": null,
   "metadata": {
    "collapsed": true
   },
   "outputs": [],
   "source": []
  }
 ],
 "metadata": {
  "kernelspec": {
   "display_name": "Python 2",
   "language": "python",
   "name": "python2"
  },
  "language_info": {
   "codemirror_mode": {
    "name": "ipython",
    "version": 2
   },
   "file_extension": ".py",
   "mimetype": "text/x-python",
   "name": "python",
   "nbconvert_exporter": "python",
   "pygments_lexer": "ipython2",
   "version": "2.7.13"
  }
 },
 "nbformat": 4,
 "nbformat_minor": 5
}
