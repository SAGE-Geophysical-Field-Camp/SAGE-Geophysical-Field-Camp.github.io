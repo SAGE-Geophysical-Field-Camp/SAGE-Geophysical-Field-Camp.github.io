{
 "cells": [
  {
   "cell_type": "markdown",
   "id": "15b4e2d5",
   "metadata": {},
   "source": [
    "## 1. Seismology Basics: Physical Understanding"
   ]
  },
  {
   "cell_type": "markdown",
   "id": "710eca18",
   "metadata": {},
   "source": [
    "\n",
    "### Key Concepts:\n",
    "- Basic wave properties: **amplitude**, **wavelength**, **frequency**\n",
    "- **Elasticity**, **stress**, and **strain**\n",
    "- **Math & Physics of Ray Propagation**:\n",
    "  - Wave solutions\n",
    "  - Snell's Law\n",
    "  - Ray paths\n",
    "  - Travel times\n",
    "  - Group vs. phase velocity\n",
    "- **Decibels**, **signal-to-noise ratio**, **dynamic range**\n"
   ]
  },
  {
   "cell_type": "markdown",
   "id": "7a08144c",
   "metadata": {},
   "source": [
    "## 2. Measurements"
   ]
  },
  {
   "cell_type": "markdown",
   "id": "61a46219",
   "metadata": {},
   "source": [
    "\n",
    "### Key Concepts:\n",
    "- Seismic Sources & Waves: **Active vs. Passive sources**, **P and S waves**, **Seismograms**, **Energy partitioning**\n",
    "- Differences between **Earthquake Seismology** and **Exploration Seismology**\n",
    "- Instrumentation:\n",
    "  - Geophones\n",
    "  - Broadband seismometers\n",
    "  - Digitizers\n"
   ]
  },
  {
   "cell_type": "markdown",
   "id": "1291a7dc",
   "metadata": {},
   "source": [
    "## 3. Field Deployment"
   ]
  },
  {
   "cell_type": "markdown",
   "id": "6fc9028c",
   "metadata": {},
   "source": [
    "\n",
    "### Key Concepts:\n",
    "- **Survey Design**: Networks, arrays, channel grouping, shot spacing\n",
    "- **Geometry**: Network geometry, station spacing, spatiotemporal resolution\n",
    "- Design surveys starting from a **geologic target**\n",
    "- Instrumentation:\n",
    "  - Source/Receiver Fundamentals\n",
    "  - Instrument mechanics and deployment\n",
    "- Other field techniques: GPS, field note-taking, compass orientation\n"
   ]
  },
  {
   "cell_type": "markdown",
   "id": "cdd6d240",
   "metadata": {},
   "source": [
    "## 4. Processing/Modeling"
   ]
  },
  {
   "cell_type": "markdown",
   "id": "2231317d",
   "metadata": {},
   "source": [
    "\n",
    "### Processing:\n",
    "- General workflows for both **active** and **passive** seismic data\n",
    "- Data formats: **SEG-Y**, **SEED**\n",
    "- Metadata handling\n",
    "- Active Seismic Processing:\n",
    "  - Seismic Unix\n",
    "  - Shot record processing\n",
    "  - Static corrections\n",
    "  - NMO\n",
    "  - CDP stacking\n",
    "- Passive Seismic Analysis:\n",
    "  - H/V spectral ratio\n",
    "  - Beamforming\n",
    "  - Earthquake signal detection\n",
    "\n",
    "### Modeling:\n",
    "- Linking seismic data to **subsurface geology**\n"
   ]
  },
  {
   "cell_type": "markdown",
   "id": "1968cdc3",
   "metadata": {},
   "source": [
    "## 5. Interpretation"
   ]
  },
  {
   "cell_type": "markdown",
   "id": "9fdf5e31",
   "metadata": {},
   "source": [
    "\n",
    "### Key Concepts:\n",
    "- **Rock Properties**: Velocity variations with lithology, porosity, and other factors\n",
    "- Integration with **geologic models** to interpret seismic data meaningfully\n"
   ]
  }
 ],
 "metadata": {},
 "nbformat": 4,
 "nbformat_minor": 5
}
